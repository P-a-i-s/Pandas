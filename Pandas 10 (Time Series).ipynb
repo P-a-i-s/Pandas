{
 "cells": [
  {
   "cell_type": "markdown",
   "metadata": {},
   "source": [
    "## PANDAS TIME SERIES"
   ]
  },
  {
   "cell_type": "code",
   "execution_count": 1,
   "metadata": {
    "collapsed": true
   },
   "outputs": [],
   "source": [
    "from datetime import datetime"
   ]
  },
  {
   "cell_type": "code",
   "execution_count": 2,
   "metadata": {
    "collapsed": false
   },
   "outputs": [
    {
     "data": {
      "text/plain": [
       "datetime.datetime(2017, 4, 14, 15, 28, 1, 319894)"
      ]
     },
     "execution_count": 2,
     "metadata": {},
     "output_type": "execute_result"
    }
   ],
   "source": [
    "datetime.now()"
   ]
  },
  {
   "cell_type": "code",
   "execution_count": 3,
   "metadata": {
    "collapsed": false
   },
   "outputs": [
    {
     "data": {
      "text/plain": [
       "datetime.datetime(2015, 7, 4, 0, 0)"
      ]
     },
     "execution_count": 3,
     "metadata": {},
     "output_type": "execute_result"
    }
   ],
   "source": [
    "datetime(year = 2015,month=7,day=4)"
   ]
  },
  {
   "cell_type": "code",
   "execution_count": 4,
   "metadata": {
    "collapsed": false
   },
   "outputs": [],
   "source": [
    "# How to convert a string into a date time object\n",
    "from dateutil import parser\n",
    "date= parser.parse(\"24th November 2017\")"
   ]
  },
  {
   "cell_type": "code",
   "execution_count": 5,
   "metadata": {
    "collapsed": false
   },
   "outputs": [
    {
     "data": {
      "text/plain": [
       "datetime.datetime(2017, 11, 24, 0, 0)"
      ]
     },
     "execution_count": 5,
     "metadata": {},
     "output_type": "execute_result"
    }
   ],
   "source": [
    "date"
   ]
  },
  {
   "cell_type": "code",
   "execution_count": 6,
   "metadata": {
    "collapsed": false
   },
   "outputs": [
    {
     "data": {
      "text/plain": [
       "'Friday'"
      ]
     },
     "execution_count": 6,
     "metadata": {},
     "output_type": "execute_result"
    }
   ],
   "source": [
    "# How to find what weekday it is\n",
    "date.strftime('%A')"
   ]
  },
  {
   "cell_type": "code",
   "execution_count": 7,
   "metadata": {
    "collapsed": false
   },
   "outputs": [
    {
     "data": {
      "text/plain": [
       "'2017'"
      ]
     },
     "execution_count": 7,
     "metadata": {},
     "output_type": "execute_result"
    }
   ],
   "source": [
    "date.strftime('%Y')"
   ]
  },
  {
   "cell_type": "code",
   "execution_count": 8,
   "metadata": {
    "collapsed": false
   },
   "outputs": [
    {
     "data": {
      "text/plain": [
       "'11'"
      ]
     },
     "execution_count": 8,
     "metadata": {},
     "output_type": "execute_result"
    }
   ],
   "source": [
    "date.strftime('%m')"
   ]
  },
  {
   "cell_type": "code",
   "execution_count": 9,
   "metadata": {
    "collapsed": true
   },
   "outputs": [],
   "source": [
    "import numpy as np"
   ]
  },
  {
   "cell_type": "code",
   "execution_count": 10,
   "metadata": {
    "collapsed": true
   },
   "outputs": [],
   "source": [
    "date = np.array('2015-07-24', dtype=np.datetime64)"
   ]
  },
  {
   "cell_type": "code",
   "execution_count": 11,
   "metadata": {
    "collapsed": false
   },
   "outputs": [
    {
     "data": {
      "text/plain": [
       "array(datetime.date(2015, 7, 24), dtype='datetime64[D]')"
      ]
     },
     "execution_count": 11,
     "metadata": {},
     "output_type": "execute_result"
    }
   ],
   "source": [
    "date"
   ]
  },
  {
   "cell_type": "code",
   "execution_count": 12,
   "metadata": {
    "collapsed": true
   },
   "outputs": [],
   "source": [
    "d = date+np.arange(10)"
   ]
  },
  {
   "cell_type": "code",
   "execution_count": 13,
   "metadata": {
    "collapsed": false
   },
   "outputs": [
    {
     "data": {
      "text/plain": [
       "array(['2015-07-24', '2015-07-25', '2015-07-26', '2015-07-27',\n",
       "       '2015-07-28', '2015-07-29', '2015-07-30', '2015-07-31',\n",
       "       '2015-08-01', '2015-08-02'], dtype='datetime64[D]')"
      ]
     },
     "execution_count": 13,
     "metadata": {},
     "output_type": "execute_result"
    }
   ],
   "source": [
    "d"
   ]
  },
  {
   "cell_type": "code",
   "execution_count": 14,
   "metadata": {
    "collapsed": true
   },
   "outputs": [],
   "source": [
    "s=d[9]"
   ]
  },
  {
   "cell_type": "code",
   "execution_count": 15,
   "metadata": {
    "collapsed": false
   },
   "outputs": [
    {
     "data": {
      "text/plain": [
       "'2015-08-02'"
      ]
     },
     "execution_count": 15,
     "metadata": {},
     "output_type": "execute_result"
    }
   ],
   "source": [
    "str(s)"
   ]
  },
  {
   "cell_type": "code",
   "execution_count": 16,
   "metadata": {
    "collapsed": false
   },
   "outputs": [
    {
     "data": {
      "text/plain": [
       "array([ 0,  1,  2,  3,  4,  5,  6,  7,  8,  9, 10, 11])"
      ]
     },
     "execution_count": 16,
     "metadata": {},
     "output_type": "execute_result"
    }
   ],
   "source": [
    "np.arange(12)"
   ]
  },
  {
   "cell_type": "markdown",
   "metadata": {},
   "source": [
    "### CODE BREAKDOWN\n",
    "#M --> Month\n",
    "#W --> Week\n",
    "#D --> Day\n",
    "#h --> hour\n",
    "#m --> Minute\n",
    "#s --> second\n",
    "#ms --> Millisecond\n",
    "#us --> Microsecond\n",
    "#ns --> Nanosecond\n",
    "#ps --> Picosecond\n",
    "#fs --> Femtosecond\n",
    "#as --> Attosecond"
   ]
  },
  {
   "cell_type": "markdown",
   "metadata": {},
   "source": [
    "## Pandas - DATE & TIME"
   ]
  },
  {
   "cell_type": "code",
   "execution_count": 17,
   "metadata": {
    "collapsed": true
   },
   "outputs": [],
   "source": [
    "import pandas as pd"
   ]
  },
  {
   "cell_type": "code",
   "execution_count": 18,
   "metadata": {
    "collapsed": true
   },
   "outputs": [],
   "source": [
    "#Convert string into timestamp object\n",
    "date = pd.to_datetime('5th of July 2019')"
   ]
  },
  {
   "cell_type": "code",
   "execution_count": 19,
   "metadata": {
    "collapsed": false
   },
   "outputs": [
    {
     "data": {
      "text/plain": [
       "Timestamp('2019-07-05 00:00:00')"
      ]
     },
     "execution_count": 19,
     "metadata": {},
     "output_type": "execute_result"
    }
   ],
   "source": [
    "date"
   ]
  },
  {
   "cell_type": "code",
   "execution_count": 20,
   "metadata": {
    "collapsed": false
   },
   "outputs": [
    {
     "data": {
      "text/plain": [
       "DatetimeIndex(['2019-07-05 00:00:00', '2019-08-04 10:29:06',\n",
       "               '2019-09-03 20:58:12', '2019-10-04 07:27:18',\n",
       "               '2019-11-03 17:56:24', '2019-12-04 04:25:30',\n",
       "               '2020-01-03 14:54:36', '2020-02-03 01:23:42',\n",
       "               '2020-03-04 11:52:48', '2020-04-03 22:21:54',\n",
       "               '2020-05-04 08:51:00', '2020-06-03 19:20:06'],\n",
       "              dtype='datetime64[ns]', freq=None)"
      ]
     },
     "execution_count": 20,
     "metadata": {},
     "output_type": "execute_result"
    }
   ],
   "source": [
    "date + pd.to_timedelta(np.arange(12),'M')"
   ]
  },
  {
   "cell_type": "code",
   "execution_count": 21,
   "metadata": {
    "collapsed": false
   },
   "outputs": [
    {
     "data": {
      "text/plain": [
       "DatetimeIndex(['2019-07-05 00:00:00', '2020-07-04 05:49:12',\n",
       "               '2021-07-04 11:38:24', '2022-07-04 17:27:36',\n",
       "               '2023-07-04 23:16:48', '2024-07-04 05:06:00',\n",
       "               '2025-07-04 10:55:12', '2026-07-04 16:44:24',\n",
       "               '2027-07-04 22:33:36', '2028-07-04 04:22:48',\n",
       "               '2029-07-04 10:12:00', '2030-07-04 16:01:12'],\n",
       "              dtype='datetime64[ns]', freq=None)"
      ]
     },
     "execution_count": 21,
     "metadata": {},
     "output_type": "execute_result"
    }
   ],
   "source": [
    "date+pd.to_timedelta(np.arange(12),'Y')"
   ]
  },
  {
   "cell_type": "markdown",
   "metadata": {},
   "source": [
    "### INDEXING BY TIME:\n",
    "- Objective is to use datetime as index column and not a regular column\n",
    "- Before using datetime as index, convert date column as index"
   ]
  },
  {
   "cell_type": "code",
   "execution_count": 22,
   "metadata": {
    "collapsed": true
   },
   "outputs": [],
   "source": [
    "index = pd.DatetimeIndex(['2017-07-04','2017-08-04','2017-09-04','2017-10-04'])"
   ]
  },
  {
   "cell_type": "code",
   "execution_count": 23,
   "metadata": {
    "collapsed": false
   },
   "outputs": [
    {
     "data": {
      "text/plain": [
       "DatetimeIndex(['2017-07-04', '2017-08-04', '2017-09-04', '2017-10-04'], dtype='datetime64[ns]', freq=None)"
      ]
     },
     "execution_count": 23,
     "metadata": {},
     "output_type": "execute_result"
    }
   ],
   "source": [
    "index"
   ]
  },
  {
   "cell_type": "code",
   "execution_count": 24,
   "metadata": {
    "collapsed": false
   },
   "outputs": [],
   "source": [
    "data = pd.Series([0,1,2,3],index = index)"
   ]
  },
  {
   "cell_type": "code",
   "execution_count": 25,
   "metadata": {
    "collapsed": false
   },
   "outputs": [
    {
     "data": {
      "text/plain": [
       "2017-07-04    0\n",
       "2017-08-04    1\n",
       "2017-09-04    2\n",
       "2017-10-04    3\n",
       "dtype: int64"
      ]
     },
     "execution_count": 25,
     "metadata": {},
     "output_type": "execute_result"
    }
   ],
   "source": [
    "data"
   ]
  },
  {
   "cell_type": "code",
   "execution_count": 26,
   "metadata": {
    "collapsed": false
   },
   "outputs": [
    {
     "data": {
      "text/plain": [
       "2017-07-04    0\n",
       "2017-08-04    1\n",
       "2017-09-04    2\n",
       "dtype: int64"
      ]
     },
     "execution_count": 26,
     "metadata": {},
     "output_type": "execute_result"
    }
   ],
   "source": [
    "data['2017-07-04':'2017-09-04']"
   ]
  },
  {
   "cell_type": "code",
   "execution_count": 27,
   "metadata": {
    "collapsed": false
   },
   "outputs": [],
   "source": [
    "index = pd.DatetimeIndex(['2017-07-04','2017-08-04','2018-09-04','2018-10-04'])\n",
    "data = pd.Series([0,1,2,3],index = index)"
   ]
  },
  {
   "cell_type": "code",
   "execution_count": 28,
   "metadata": {
    "collapsed": false
   },
   "outputs": [
    {
     "data": {
      "text/plain": [
       "2017-07-04    0\n",
       "2017-08-04    1\n",
       "dtype: int64"
      ]
     },
     "execution_count": 28,
     "metadata": {},
     "output_type": "execute_result"
    }
   ],
   "source": [
    "data['2017']"
   ]
  },
  {
   "cell_type": "code",
   "execution_count": 29,
   "metadata": {
    "collapsed": false
   },
   "outputs": [
    {
     "data": {
      "text/plain": [
       "DatetimeIndex(['2017-12-31', '2018-12-31', '2019-12-31', '2020-12-31',\n",
       "               '2021-12-31', '2022-12-31', '2023-12-31', '2024-12-31',\n",
       "               '2025-12-31', '2026-12-31'],\n",
       "              dtype='datetime64[ns]', freq='A-DEC')"
      ]
     },
     "execution_count": 29,
     "metadata": {},
     "output_type": "execute_result"
    }
   ],
   "source": [
    "pd.date_range('2017',periods=10,freq='A')"
   ]
  },
  {
   "cell_type": "code",
   "execution_count": 30,
   "metadata": {
    "collapsed": false
   },
   "outputs": [
    {
     "data": {
      "text/plain": [
       "DatetimeIndex(['2018-01-31', '2018-02-28', '2018-03-31', '2018-04-30',\n",
       "               '2018-05-31', '2018-06-30', '2018-07-31', '2018-08-31',\n",
       "               '2018-09-30'],\n",
       "              dtype='datetime64[ns]', freq='M')"
      ]
     },
     "execution_count": 30,
     "metadata": {},
     "output_type": "execute_result"
    }
   ],
   "source": [
    "pd.date_range('2018',periods=9,freq='m')"
   ]
  },
  {
   "cell_type": "code",
   "execution_count": 31,
   "metadata": {
    "collapsed": true
   },
   "outputs": [],
   "source": [
    "date = pd.to_datetime(\"5th of July 2019\")"
   ]
  },
  {
   "cell_type": "code",
   "execution_count": 32,
   "metadata": {
    "collapsed": false
   },
   "outputs": [
    {
     "data": {
      "text/plain": [
       "DatetimeIndex(['2017-07-09', '2017-08-13', '2017-09-17', '2017-10-22',\n",
       "               '2017-11-26', '2017-12-31', '2018-02-04', '2018-03-11',\n",
       "               '2018-04-15', '2018-05-20'],\n",
       "              dtype='datetime64[ns]', freq='5W-SUN')"
      ]
     },
     "execution_count": 32,
     "metadata": {},
     "output_type": "execute_result"
    }
   ],
   "source": [
    "pd.date_range('2017-07-03',periods=10,freq='5w')"
   ]
  },
  {
   "cell_type": "code",
   "execution_count": 33,
   "metadata": {
    "collapsed": false
   },
   "outputs": [
    {
     "data": {
      "text/plain": [
       "TimedeltaIndex([  '0 days 00:00:00',  '30 days 04:30:00',  '60 days 09:00:00',\n",
       "                 '90 days 13:30:00', '120 days 18:00:00', '150 days 22:30:00',\n",
       "                '181 days 03:00:00', '211 days 07:30:00', '241 days 12:00:00'],\n",
       "               dtype='timedelta64[ns]', freq='43470T')"
      ]
     },
     "execution_count": 33,
     "metadata": {},
     "output_type": "execute_result"
    }
   ],
   "source": [
    "pd.timedelta_range(0,periods=9,freq='4H30T30D')"
   ]
  },
  {
   "cell_type": "markdown",
   "metadata": {},
   "source": [
    "#### CODE DESCRIPTION\n",
    "-D - Calendar day\n",
    "-B - Business day\n",
    "-W - weekly\n",
    "-M - Month\n",
    "-BM - Business Month\n",
    "-Q - Quarter \n",
    "-BQ - Business Quarter\n",
    "-A - Year end\n",
    "-BA - Business Year\n",
    "-H - Hours\n",
    "-BH - Business Hours\n",
    "-T - Minutes\n",
    "-S - Seconds\n",
    "-L - Milliseconds\n",
    "-U - Microseconds\n",
    "-N - Nanoseconds"
   ]
  },
  {
   "cell_type": "markdown",
   "metadata": {},
   "source": [
    "## Pandas_datareader import"
   ]
  },
  {
   "cell_type": "code",
   "execution_count": 34,
   "metadata": {
    "collapsed": true
   },
   "outputs": [],
   "source": [
    "from pandas_datareader import data"
   ]
  },
  {
   "cell_type": "code",
   "execution_count": 35,
   "metadata": {
    "collapsed": true
   },
   "outputs": [],
   "source": [
    "goog = data.DataReader('GOOG',start='2014', end = '2016', data_source='google')"
   ]
  },
  {
   "cell_type": "code",
   "execution_count": 36,
   "metadata": {
    "collapsed": false
   },
   "outputs": [
    {
     "data": {
      "text/html": [
       "<div>\n",
       "<table border=\"1\" class=\"dataframe\">\n",
       "  <thead>\n",
       "    <tr style=\"text-align: right;\">\n",
       "      <th></th>\n",
       "      <th>Open</th>\n",
       "      <th>High</th>\n",
       "      <th>Low</th>\n",
       "      <th>Close</th>\n",
       "      <th>Volume</th>\n",
       "    </tr>\n",
       "    <tr>\n",
       "      <th>Date</th>\n",
       "      <th></th>\n",
       "      <th></th>\n",
       "      <th></th>\n",
       "      <th></th>\n",
       "      <th></th>\n",
       "    </tr>\n",
       "  </thead>\n",
       "  <tbody>\n",
       "    <tr>\n",
       "      <th>2014-01-02</th>\n",
       "      <td>557.17</td>\n",
       "      <td>558.32</td>\n",
       "      <td>553.58</td>\n",
       "      <td>556.00</td>\n",
       "      <td>NaN</td>\n",
       "    </tr>\n",
       "    <tr>\n",
       "      <th>2014-01-03</th>\n",
       "      <td>556.94</td>\n",
       "      <td>557.91</td>\n",
       "      <td>551.91</td>\n",
       "      <td>551.95</td>\n",
       "      <td>NaN</td>\n",
       "    </tr>\n",
       "    <tr>\n",
       "      <th>2014-01-06</th>\n",
       "      <td>555.95</td>\n",
       "      <td>558.87</td>\n",
       "      <td>552.67</td>\n",
       "      <td>558.10</td>\n",
       "      <td>NaN</td>\n",
       "    </tr>\n",
       "    <tr>\n",
       "      <th>2014-01-07</th>\n",
       "      <td>561.94</td>\n",
       "      <td>569.28</td>\n",
       "      <td>560.02</td>\n",
       "      <td>568.86</td>\n",
       "      <td>NaN</td>\n",
       "    </tr>\n",
       "    <tr>\n",
       "      <th>2014-01-08</th>\n",
       "      <td>572.43</td>\n",
       "      <td>573.09</td>\n",
       "      <td>566.08</td>\n",
       "      <td>570.04</td>\n",
       "      <td>NaN</td>\n",
       "    </tr>\n",
       "  </tbody>\n",
       "</table>\n",
       "</div>"
      ],
      "text/plain": [
       "              Open    High     Low   Close  Volume\n",
       "Date                                              \n",
       "2014-01-02  557.17  558.32  553.58  556.00     NaN\n",
       "2014-01-03  556.94  557.91  551.91  551.95     NaN\n",
       "2014-01-06  555.95  558.87  552.67  558.10     NaN\n",
       "2014-01-07  561.94  569.28  560.02  568.86     NaN\n",
       "2014-01-08  572.43  573.09  566.08  570.04     NaN"
      ]
     },
     "execution_count": 36,
     "metadata": {},
     "output_type": "execute_result"
    }
   ],
   "source": [
    "goog.head()"
   ]
  },
  {
   "cell_type": "code",
   "execution_count": 37,
   "metadata": {
    "collapsed": false
   },
   "outputs": [
    {
     "data": {
      "text/plain": [
       "504"
      ]
     },
     "execution_count": 37,
     "metadata": {},
     "output_type": "execute_result"
    }
   ],
   "source": [
    "len(goog)"
   ]
  },
  {
   "cell_type": "code",
   "execution_count": 38,
   "metadata": {
    "collapsed": false
   },
   "outputs": [
    {
     "data": {
      "text/html": [
       "<div>\n",
       "<table border=\"1\" class=\"dataframe\">\n",
       "  <thead>\n",
       "    <tr style=\"text-align: right;\">\n",
       "      <th></th>\n",
       "      <th>Open</th>\n",
       "      <th>High</th>\n",
       "      <th>Low</th>\n",
       "      <th>Close</th>\n",
       "      <th>Volume</th>\n",
       "    </tr>\n",
       "    <tr>\n",
       "      <th>Date</th>\n",
       "      <th></th>\n",
       "      <th></th>\n",
       "      <th></th>\n",
       "      <th></th>\n",
       "      <th></th>\n",
       "    </tr>\n",
       "  </thead>\n",
       "  <tbody>\n",
       "    <tr>\n",
       "      <th>2015-12-01</th>\n",
       "      <td>747.11</td>\n",
       "      <td>768.95</td>\n",
       "      <td>746.70</td>\n",
       "      <td>767.04</td>\n",
       "      <td>2129940.0</td>\n",
       "    </tr>\n",
       "    <tr>\n",
       "      <th>2015-12-02</th>\n",
       "      <td>768.90</td>\n",
       "      <td>775.96</td>\n",
       "      <td>758.96</td>\n",
       "      <td>762.38</td>\n",
       "      <td>2195686.0</td>\n",
       "    </tr>\n",
       "    <tr>\n",
       "      <th>2015-12-03</th>\n",
       "      <td>766.01</td>\n",
       "      <td>769.00</td>\n",
       "      <td>745.63</td>\n",
       "      <td>752.54</td>\n",
       "      <td>2590641.0</td>\n",
       "    </tr>\n",
       "    <tr>\n",
       "      <th>2015-12-04</th>\n",
       "      <td>753.10</td>\n",
       "      <td>768.49</td>\n",
       "      <td>750.00</td>\n",
       "      <td>766.81</td>\n",
       "      <td>2757283.0</td>\n",
       "    </tr>\n",
       "    <tr>\n",
       "      <th>2015-12-07</th>\n",
       "      <td>767.77</td>\n",
       "      <td>768.73</td>\n",
       "      <td>755.09</td>\n",
       "      <td>763.25</td>\n",
       "      <td>1812314.0</td>\n",
       "    </tr>\n",
       "    <tr>\n",
       "      <th>2015-12-08</th>\n",
       "      <td>757.89</td>\n",
       "      <td>764.80</td>\n",
       "      <td>754.20</td>\n",
       "      <td>762.37</td>\n",
       "      <td>1829475.0</td>\n",
       "    </tr>\n",
       "    <tr>\n",
       "      <th>2015-12-09</th>\n",
       "      <td>759.17</td>\n",
       "      <td>764.23</td>\n",
       "      <td>737.00</td>\n",
       "      <td>751.61</td>\n",
       "      <td>2699990.0</td>\n",
       "    </tr>\n",
       "    <tr>\n",
       "      <th>2015-12-10</th>\n",
       "      <td>752.85</td>\n",
       "      <td>755.85</td>\n",
       "      <td>743.83</td>\n",
       "      <td>749.46</td>\n",
       "      <td>1988380.0</td>\n",
       "    </tr>\n",
       "    <tr>\n",
       "      <th>2015-12-11</th>\n",
       "      <td>741.16</td>\n",
       "      <td>745.71</td>\n",
       "      <td>736.75</td>\n",
       "      <td>738.87</td>\n",
       "      <td>2224410.0</td>\n",
       "    </tr>\n",
       "    <tr>\n",
       "      <th>2015-12-14</th>\n",
       "      <td>741.79</td>\n",
       "      <td>748.73</td>\n",
       "      <td>724.17</td>\n",
       "      <td>747.77</td>\n",
       "      <td>2412497.0</td>\n",
       "    </tr>\n",
       "    <tr>\n",
       "      <th>2015-12-15</th>\n",
       "      <td>753.00</td>\n",
       "      <td>758.08</td>\n",
       "      <td>743.01</td>\n",
       "      <td>743.40</td>\n",
       "      <td>2666229.0</td>\n",
       "    </tr>\n",
       "    <tr>\n",
       "      <th>2015-12-16</th>\n",
       "      <td>750.00</td>\n",
       "      <td>760.59</td>\n",
       "      <td>739.44</td>\n",
       "      <td>758.09</td>\n",
       "      <td>1993251.0</td>\n",
       "    </tr>\n",
       "    <tr>\n",
       "      <th>2015-12-17</th>\n",
       "      <td>762.42</td>\n",
       "      <td>762.68</td>\n",
       "      <td>749.00</td>\n",
       "      <td>749.43</td>\n",
       "      <td>1553418.0</td>\n",
       "    </tr>\n",
       "    <tr>\n",
       "      <th>2015-12-18</th>\n",
       "      <td>746.51</td>\n",
       "      <td>754.13</td>\n",
       "      <td>738.15</td>\n",
       "      <td>739.31</td>\n",
       "      <td>3148743.0</td>\n",
       "    </tr>\n",
       "    <tr>\n",
       "      <th>2015-12-21</th>\n",
       "      <td>746.13</td>\n",
       "      <td>750.00</td>\n",
       "      <td>740.00</td>\n",
       "      <td>747.77</td>\n",
       "      <td>1525703.0</td>\n",
       "    </tr>\n",
       "    <tr>\n",
       "      <th>2015-12-22</th>\n",
       "      <td>751.65</td>\n",
       "      <td>754.85</td>\n",
       "      <td>745.53</td>\n",
       "      <td>750.00</td>\n",
       "      <td>1365520.0</td>\n",
       "    </tr>\n",
       "    <tr>\n",
       "      <th>2015-12-23</th>\n",
       "      <td>753.47</td>\n",
       "      <td>754.21</td>\n",
       "      <td>744.00</td>\n",
       "      <td>750.31</td>\n",
       "      <td>1566726.0</td>\n",
       "    </tr>\n",
       "    <tr>\n",
       "      <th>2015-12-24</th>\n",
       "      <td>749.55</td>\n",
       "      <td>751.35</td>\n",
       "      <td>746.62</td>\n",
       "      <td>748.40</td>\n",
       "      <td>527223.0</td>\n",
       "    </tr>\n",
       "    <tr>\n",
       "      <th>2015-12-28</th>\n",
       "      <td>752.92</td>\n",
       "      <td>762.99</td>\n",
       "      <td>749.52</td>\n",
       "      <td>762.51</td>\n",
       "      <td>1515716.0</td>\n",
       "    </tr>\n",
       "    <tr>\n",
       "      <th>2015-12-29</th>\n",
       "      <td>766.69</td>\n",
       "      <td>779.98</td>\n",
       "      <td>766.43</td>\n",
       "      <td>776.60</td>\n",
       "      <td>1765012.0</td>\n",
       "    </tr>\n",
       "    <tr>\n",
       "      <th>2015-12-30</th>\n",
       "      <td>776.60</td>\n",
       "      <td>777.60</td>\n",
       "      <td>766.90</td>\n",
       "      <td>771.00</td>\n",
       "      <td>1293521.0</td>\n",
       "    </tr>\n",
       "    <tr>\n",
       "      <th>2015-12-31</th>\n",
       "      <td>769.50</td>\n",
       "      <td>769.50</td>\n",
       "      <td>758.34</td>\n",
       "      <td>758.88</td>\n",
       "      <td>1500923.0</td>\n",
       "    </tr>\n",
       "  </tbody>\n",
       "</table>\n",
       "</div>"
      ],
      "text/plain": [
       "              Open    High     Low   Close     Volume\n",
       "Date                                                 \n",
       "2015-12-01  747.11  768.95  746.70  767.04  2129940.0\n",
       "2015-12-02  768.90  775.96  758.96  762.38  2195686.0\n",
       "2015-12-03  766.01  769.00  745.63  752.54  2590641.0\n",
       "2015-12-04  753.10  768.49  750.00  766.81  2757283.0\n",
       "2015-12-07  767.77  768.73  755.09  763.25  1812314.0\n",
       "2015-12-08  757.89  764.80  754.20  762.37  1829475.0\n",
       "2015-12-09  759.17  764.23  737.00  751.61  2699990.0\n",
       "2015-12-10  752.85  755.85  743.83  749.46  1988380.0\n",
       "2015-12-11  741.16  745.71  736.75  738.87  2224410.0\n",
       "2015-12-14  741.79  748.73  724.17  747.77  2412497.0\n",
       "2015-12-15  753.00  758.08  743.01  743.40  2666229.0\n",
       "2015-12-16  750.00  760.59  739.44  758.09  1993251.0\n",
       "2015-12-17  762.42  762.68  749.00  749.43  1553418.0\n",
       "2015-12-18  746.51  754.13  738.15  739.31  3148743.0\n",
       "2015-12-21  746.13  750.00  740.00  747.77  1525703.0\n",
       "2015-12-22  751.65  754.85  745.53  750.00  1365520.0\n",
       "2015-12-23  753.47  754.21  744.00  750.31  1566726.0\n",
       "2015-12-24  749.55  751.35  746.62  748.40   527223.0\n",
       "2015-12-28  752.92  762.99  749.52  762.51  1515716.0\n",
       "2015-12-29  766.69  779.98  766.43  776.60  1765012.0\n",
       "2015-12-30  776.60  777.60  766.90  771.00  1293521.0\n",
       "2015-12-31  769.50  769.50  758.34  758.88  1500923.0"
      ]
     },
     "execution_count": 38,
     "metadata": {},
     "output_type": "execute_result"
    }
   ],
   "source": [
    "goog['2015-12-01':'2015-12-31']"
   ]
  },
  {
   "cell_type": "code",
   "execution_count": 39,
   "metadata": {
    "collapsed": false
   },
   "outputs": [
    {
     "data": {
      "text/plain": [
       "Open           776.60\n",
       "High           779.98\n",
       "Low            766.90\n",
       "Close          776.60\n",
       "Volume    11164943.00\n",
       "dtype: float64"
      ]
     },
     "execution_count": 39,
     "metadata": {},
     "output_type": "execute_result"
    }
   ],
   "source": [
    "goog.max()"
   ]
  },
  {
   "cell_type": "code",
   "execution_count": 40,
   "metadata": {
    "collapsed": false
   },
   "outputs": [],
   "source": [
    "data = pd.read_csv('https://data.seattle.gov/api/views/65db-xm6k/rows.csv?accessType=DOWNLOAD',index_col='Date',parse_dates=True)"
   ]
  },
  {
   "cell_type": "code",
   "execution_count": 43,
   "metadata": {
    "collapsed": false
   },
   "outputs": [],
   "source": [
    "data.columns = ['East','West']"
   ]
  },
  {
   "cell_type": "code",
   "execution_count": 44,
   "metadata": {
    "collapsed": false
   },
   "outputs": [
    {
     "data": {
      "text/html": [
       "<div>\n",
       "<table border=\"1\" class=\"dataframe\">\n",
       "  <thead>\n",
       "    <tr style=\"text-align: right;\">\n",
       "      <th></th>\n",
       "      <th>East</th>\n",
       "      <th>West</th>\n",
       "    </tr>\n",
       "    <tr>\n",
       "      <th>Date</th>\n",
       "      <th></th>\n",
       "      <th></th>\n",
       "    </tr>\n",
       "  </thead>\n",
       "  <tbody>\n",
       "    <tr>\n",
       "      <th>2012-10-03 00:00:00</th>\n",
       "      <td>4.0</td>\n",
       "      <td>9.0</td>\n",
       "    </tr>\n",
       "    <tr>\n",
       "      <th>2012-10-03 01:00:00</th>\n",
       "      <td>4.0</td>\n",
       "      <td>6.0</td>\n",
       "    </tr>\n",
       "    <tr>\n",
       "      <th>2012-10-03 02:00:00</th>\n",
       "      <td>1.0</td>\n",
       "      <td>1.0</td>\n",
       "    </tr>\n",
       "    <tr>\n",
       "      <th>2012-10-03 03:00:00</th>\n",
       "      <td>2.0</td>\n",
       "      <td>3.0</td>\n",
       "    </tr>\n",
       "    <tr>\n",
       "      <th>2012-10-03 04:00:00</th>\n",
       "      <td>6.0</td>\n",
       "      <td>1.0</td>\n",
       "    </tr>\n",
       "    <tr>\n",
       "      <th>2012-10-03 05:00:00</th>\n",
       "      <td>21.0</td>\n",
       "      <td>10.0</td>\n",
       "    </tr>\n",
       "    <tr>\n",
       "      <th>2012-10-03 06:00:00</th>\n",
       "      <td>105.0</td>\n",
       "      <td>50.0</td>\n",
       "    </tr>\n",
       "    <tr>\n",
       "      <th>2012-10-03 07:00:00</th>\n",
       "      <td>257.0</td>\n",
       "      <td>95.0</td>\n",
       "    </tr>\n",
       "    <tr>\n",
       "      <th>2012-10-03 08:00:00</th>\n",
       "      <td>291.0</td>\n",
       "      <td>146.0</td>\n",
       "    </tr>\n",
       "    <tr>\n",
       "      <th>2012-10-03 09:00:00</th>\n",
       "      <td>172.0</td>\n",
       "      <td>104.0</td>\n",
       "    </tr>\n",
       "    <tr>\n",
       "      <th>2012-10-03 10:00:00</th>\n",
       "      <td>72.0</td>\n",
       "      <td>46.0</td>\n",
       "    </tr>\n",
       "    <tr>\n",
       "      <th>2012-10-03 11:00:00</th>\n",
       "      <td>10.0</td>\n",
       "      <td>32.0</td>\n",
       "    </tr>\n",
       "    <tr>\n",
       "      <th>2012-10-03 12:00:00</th>\n",
       "      <td>35.0</td>\n",
       "      <td>41.0</td>\n",
       "    </tr>\n",
       "    <tr>\n",
       "      <th>2012-10-03 13:00:00</th>\n",
       "      <td>42.0</td>\n",
       "      <td>48.0</td>\n",
       "    </tr>\n",
       "    <tr>\n",
       "      <th>2012-10-03 14:00:00</th>\n",
       "      <td>77.0</td>\n",
       "      <td>51.0</td>\n",
       "    </tr>\n",
       "    <tr>\n",
       "      <th>2012-10-03 15:00:00</th>\n",
       "      <td>72.0</td>\n",
       "      <td>92.0</td>\n",
       "    </tr>\n",
       "    <tr>\n",
       "      <th>2012-10-03 16:00:00</th>\n",
       "      <td>133.0</td>\n",
       "      <td>182.0</td>\n",
       "    </tr>\n",
       "    <tr>\n",
       "      <th>2012-10-03 17:00:00</th>\n",
       "      <td>192.0</td>\n",
       "      <td>391.0</td>\n",
       "    </tr>\n",
       "    <tr>\n",
       "      <th>2012-10-03 18:00:00</th>\n",
       "      <td>122.0</td>\n",
       "      <td>258.0</td>\n",
       "    </tr>\n",
       "    <tr>\n",
       "      <th>2012-10-03 19:00:00</th>\n",
       "      <td>59.0</td>\n",
       "      <td>69.0</td>\n",
       "    </tr>\n",
       "    <tr>\n",
       "      <th>2012-10-03 20:00:00</th>\n",
       "      <td>29.0</td>\n",
       "      <td>51.0</td>\n",
       "    </tr>\n",
       "    <tr>\n",
       "      <th>2012-10-03 21:00:00</th>\n",
       "      <td>25.0</td>\n",
       "      <td>38.0</td>\n",
       "    </tr>\n",
       "    <tr>\n",
       "      <th>2012-10-03 22:00:00</th>\n",
       "      <td>24.0</td>\n",
       "      <td>25.0</td>\n",
       "    </tr>\n",
       "    <tr>\n",
       "      <th>2012-10-03 23:00:00</th>\n",
       "      <td>5.0</td>\n",
       "      <td>12.0</td>\n",
       "    </tr>\n",
       "    <tr>\n",
       "      <th>2012-10-04 00:00:00</th>\n",
       "      <td>7.0</td>\n",
       "      <td>11.0</td>\n",
       "    </tr>\n",
       "    <tr>\n",
       "      <th>2012-10-04 01:00:00</th>\n",
       "      <td>3.0</td>\n",
       "      <td>0.0</td>\n",
       "    </tr>\n",
       "    <tr>\n",
       "      <th>2012-10-04 02:00:00</th>\n",
       "      <td>3.0</td>\n",
       "      <td>6.0</td>\n",
       "    </tr>\n",
       "    <tr>\n",
       "      <th>2012-10-04 03:00:00</th>\n",
       "      <td>0.0</td>\n",
       "      <td>3.0</td>\n",
       "    </tr>\n",
       "    <tr>\n",
       "      <th>2012-10-04 04:00:00</th>\n",
       "      <td>7.0</td>\n",
       "      <td>1.0</td>\n",
       "    </tr>\n",
       "    <tr>\n",
       "      <th>2012-10-04 05:00:00</th>\n",
       "      <td>15.0</td>\n",
       "      <td>11.0</td>\n",
       "    </tr>\n",
       "    <tr>\n",
       "      <th>...</th>\n",
       "      <td>...</td>\n",
       "      <td>...</td>\n",
       "    </tr>\n",
       "    <tr>\n",
       "      <th>2017-03-30 18:00:00</th>\n",
       "      <td>104.0</td>\n",
       "      <td>213.0</td>\n",
       "    </tr>\n",
       "    <tr>\n",
       "      <th>2017-03-30 19:00:00</th>\n",
       "      <td>50.0</td>\n",
       "      <td>125.0</td>\n",
       "    </tr>\n",
       "    <tr>\n",
       "      <th>2017-03-30 20:00:00</th>\n",
       "      <td>25.0</td>\n",
       "      <td>58.0</td>\n",
       "    </tr>\n",
       "    <tr>\n",
       "      <th>2017-03-30 21:00:00</th>\n",
       "      <td>15.0</td>\n",
       "      <td>21.0</td>\n",
       "    </tr>\n",
       "    <tr>\n",
       "      <th>2017-03-30 22:00:00</th>\n",
       "      <td>10.0</td>\n",
       "      <td>20.0</td>\n",
       "    </tr>\n",
       "    <tr>\n",
       "      <th>2017-03-30 23:00:00</th>\n",
       "      <td>11.0</td>\n",
       "      <td>5.0</td>\n",
       "    </tr>\n",
       "    <tr>\n",
       "      <th>2017-03-31 00:00:00</th>\n",
       "      <td>2.0</td>\n",
       "      <td>4.0</td>\n",
       "    </tr>\n",
       "    <tr>\n",
       "      <th>2017-03-31 01:00:00</th>\n",
       "      <td>2.0</td>\n",
       "      <td>0.0</td>\n",
       "    </tr>\n",
       "    <tr>\n",
       "      <th>2017-03-31 02:00:00</th>\n",
       "      <td>1.0</td>\n",
       "      <td>0.0</td>\n",
       "    </tr>\n",
       "    <tr>\n",
       "      <th>2017-03-31 03:00:00</th>\n",
       "      <td>1.0</td>\n",
       "      <td>0.0</td>\n",
       "    </tr>\n",
       "    <tr>\n",
       "      <th>2017-03-31 04:00:00</th>\n",
       "      <td>3.0</td>\n",
       "      <td>3.0</td>\n",
       "    </tr>\n",
       "    <tr>\n",
       "      <th>2017-03-31 05:00:00</th>\n",
       "      <td>23.0</td>\n",
       "      <td>14.0</td>\n",
       "    </tr>\n",
       "    <tr>\n",
       "      <th>2017-03-31 06:00:00</th>\n",
       "      <td>57.0</td>\n",
       "      <td>49.0</td>\n",
       "    </tr>\n",
       "    <tr>\n",
       "      <th>2017-03-31 07:00:00</th>\n",
       "      <td>163.0</td>\n",
       "      <td>99.0</td>\n",
       "    </tr>\n",
       "    <tr>\n",
       "      <th>2017-03-31 08:00:00</th>\n",
       "      <td>250.0</td>\n",
       "      <td>162.0</td>\n",
       "    </tr>\n",
       "    <tr>\n",
       "      <th>2017-03-31 09:00:00</th>\n",
       "      <td>90.0</td>\n",
       "      <td>70.0</td>\n",
       "    </tr>\n",
       "    <tr>\n",
       "      <th>2017-03-31 10:00:00</th>\n",
       "      <td>52.0</td>\n",
       "      <td>38.0</td>\n",
       "    </tr>\n",
       "    <tr>\n",
       "      <th>2017-03-31 11:00:00</th>\n",
       "      <td>39.0</td>\n",
       "      <td>31.0</td>\n",
       "    </tr>\n",
       "    <tr>\n",
       "      <th>2017-03-31 12:00:00</th>\n",
       "      <td>37.0</td>\n",
       "      <td>37.0</td>\n",
       "    </tr>\n",
       "    <tr>\n",
       "      <th>2017-03-31 13:00:00</th>\n",
       "      <td>52.0</td>\n",
       "      <td>34.0</td>\n",
       "    </tr>\n",
       "    <tr>\n",
       "      <th>2017-03-31 14:00:00</th>\n",
       "      <td>45.0</td>\n",
       "      <td>55.0</td>\n",
       "    </tr>\n",
       "    <tr>\n",
       "      <th>2017-03-31 15:00:00</th>\n",
       "      <td>74.0</td>\n",
       "      <td>87.0</td>\n",
       "    </tr>\n",
       "    <tr>\n",
       "      <th>2017-03-31 16:00:00</th>\n",
       "      <td>83.0</td>\n",
       "      <td>223.0</td>\n",
       "    </tr>\n",
       "    <tr>\n",
       "      <th>2017-03-31 17:00:00</th>\n",
       "      <td>145.0</td>\n",
       "      <td>333.0</td>\n",
       "    </tr>\n",
       "    <tr>\n",
       "      <th>2017-03-31 18:00:00</th>\n",
       "      <td>117.0</td>\n",
       "      <td>206.0</td>\n",
       "    </tr>\n",
       "    <tr>\n",
       "      <th>2017-03-31 19:00:00</th>\n",
       "      <td>50.0</td>\n",
       "      <td>84.0</td>\n",
       "    </tr>\n",
       "    <tr>\n",
       "      <th>2017-03-31 20:00:00</th>\n",
       "      <td>26.0</td>\n",
       "      <td>36.0</td>\n",
       "    </tr>\n",
       "    <tr>\n",
       "      <th>2017-03-31 21:00:00</th>\n",
       "      <td>16.0</td>\n",
       "      <td>40.0</td>\n",
       "    </tr>\n",
       "    <tr>\n",
       "      <th>2017-03-31 22:00:00</th>\n",
       "      <td>12.0</td>\n",
       "      <td>22.0</td>\n",
       "    </tr>\n",
       "    <tr>\n",
       "      <th>2017-03-31 23:00:00</th>\n",
       "      <td>5.0</td>\n",
       "      <td>15.0</td>\n",
       "    </tr>\n",
       "  </tbody>\n",
       "</table>\n",
       "<p>39384 rows × 2 columns</p>\n",
       "</div>"
      ],
      "text/plain": [
       "                      East   West\n",
       "Date                             \n",
       "2012-10-03 00:00:00    4.0    9.0\n",
       "2012-10-03 01:00:00    4.0    6.0\n",
       "2012-10-03 02:00:00    1.0    1.0\n",
       "2012-10-03 03:00:00    2.0    3.0\n",
       "2012-10-03 04:00:00    6.0    1.0\n",
       "2012-10-03 05:00:00   21.0   10.0\n",
       "2012-10-03 06:00:00  105.0   50.0\n",
       "2012-10-03 07:00:00  257.0   95.0\n",
       "2012-10-03 08:00:00  291.0  146.0\n",
       "2012-10-03 09:00:00  172.0  104.0\n",
       "2012-10-03 10:00:00   72.0   46.0\n",
       "2012-10-03 11:00:00   10.0   32.0\n",
       "2012-10-03 12:00:00   35.0   41.0\n",
       "2012-10-03 13:00:00   42.0   48.0\n",
       "2012-10-03 14:00:00   77.0   51.0\n",
       "2012-10-03 15:00:00   72.0   92.0\n",
       "2012-10-03 16:00:00  133.0  182.0\n",
       "2012-10-03 17:00:00  192.0  391.0\n",
       "2012-10-03 18:00:00  122.0  258.0\n",
       "2012-10-03 19:00:00   59.0   69.0\n",
       "2012-10-03 20:00:00   29.0   51.0\n",
       "2012-10-03 21:00:00   25.0   38.0\n",
       "2012-10-03 22:00:00   24.0   25.0\n",
       "2012-10-03 23:00:00    5.0   12.0\n",
       "2012-10-04 00:00:00    7.0   11.0\n",
       "2012-10-04 01:00:00    3.0    0.0\n",
       "2012-10-04 02:00:00    3.0    6.0\n",
       "2012-10-04 03:00:00    0.0    3.0\n",
       "2012-10-04 04:00:00    7.0    1.0\n",
       "2012-10-04 05:00:00   15.0   11.0\n",
       "...                    ...    ...\n",
       "2017-03-30 18:00:00  104.0  213.0\n",
       "2017-03-30 19:00:00   50.0  125.0\n",
       "2017-03-30 20:00:00   25.0   58.0\n",
       "2017-03-30 21:00:00   15.0   21.0\n",
       "2017-03-30 22:00:00   10.0   20.0\n",
       "2017-03-30 23:00:00   11.0    5.0\n",
       "2017-03-31 00:00:00    2.0    4.0\n",
       "2017-03-31 01:00:00    2.0    0.0\n",
       "2017-03-31 02:00:00    1.0    0.0\n",
       "2017-03-31 03:00:00    1.0    0.0\n",
       "2017-03-31 04:00:00    3.0    3.0\n",
       "2017-03-31 05:00:00   23.0   14.0\n",
       "2017-03-31 06:00:00   57.0   49.0\n",
       "2017-03-31 07:00:00  163.0   99.0\n",
       "2017-03-31 08:00:00  250.0  162.0\n",
       "2017-03-31 09:00:00   90.0   70.0\n",
       "2017-03-31 10:00:00   52.0   38.0\n",
       "2017-03-31 11:00:00   39.0   31.0\n",
       "2017-03-31 12:00:00   37.0   37.0\n",
       "2017-03-31 13:00:00   52.0   34.0\n",
       "2017-03-31 14:00:00   45.0   55.0\n",
       "2017-03-31 15:00:00   74.0   87.0\n",
       "2017-03-31 16:00:00   83.0  223.0\n",
       "2017-03-31 17:00:00  145.0  333.0\n",
       "2017-03-31 18:00:00  117.0  206.0\n",
       "2017-03-31 19:00:00   50.0   84.0\n",
       "2017-03-31 20:00:00   26.0   36.0\n",
       "2017-03-31 21:00:00   16.0   40.0\n",
       "2017-03-31 22:00:00   12.0   22.0\n",
       "2017-03-31 23:00:00    5.0   15.0\n",
       "\n",
       "[39384 rows x 2 columns]"
      ]
     },
     "execution_count": 44,
     "metadata": {},
     "output_type": "execute_result"
    }
   ],
   "source": [
    "data"
   ]
  },
  {
   "cell_type": "code",
   "execution_count": 45,
   "metadata": {
    "collapsed": true
   },
   "outputs": [],
   "source": [
    "data['total'] = data['East']+ data['West']"
   ]
  },
  {
   "cell_type": "code",
   "execution_count": 46,
   "metadata": {
    "collapsed": false
   },
   "outputs": [
    {
     "data": {
      "text/html": [
       "<div>\n",
       "<table border=\"1\" class=\"dataframe\">\n",
       "  <thead>\n",
       "    <tr style=\"text-align: right;\">\n",
       "      <th></th>\n",
       "      <th>East</th>\n",
       "      <th>West</th>\n",
       "      <th>total</th>\n",
       "    </tr>\n",
       "    <tr>\n",
       "      <th>Date</th>\n",
       "      <th></th>\n",
       "      <th></th>\n",
       "      <th></th>\n",
       "    </tr>\n",
       "  </thead>\n",
       "  <tbody>\n",
       "    <tr>\n",
       "      <th>2012-10-03 00:00:00</th>\n",
       "      <td>4.0</td>\n",
       "      <td>9.0</td>\n",
       "      <td>13.0</td>\n",
       "    </tr>\n",
       "    <tr>\n",
       "      <th>2012-10-03 01:00:00</th>\n",
       "      <td>4.0</td>\n",
       "      <td>6.0</td>\n",
       "      <td>10.0</td>\n",
       "    </tr>\n",
       "    <tr>\n",
       "      <th>2012-10-03 02:00:00</th>\n",
       "      <td>1.0</td>\n",
       "      <td>1.0</td>\n",
       "      <td>2.0</td>\n",
       "    </tr>\n",
       "    <tr>\n",
       "      <th>2012-10-03 03:00:00</th>\n",
       "      <td>2.0</td>\n",
       "      <td>3.0</td>\n",
       "      <td>5.0</td>\n",
       "    </tr>\n",
       "    <tr>\n",
       "      <th>2012-10-03 04:00:00</th>\n",
       "      <td>6.0</td>\n",
       "      <td>1.0</td>\n",
       "      <td>7.0</td>\n",
       "    </tr>\n",
       "    <tr>\n",
       "      <th>2012-10-03 05:00:00</th>\n",
       "      <td>21.0</td>\n",
       "      <td>10.0</td>\n",
       "      <td>31.0</td>\n",
       "    </tr>\n",
       "    <tr>\n",
       "      <th>2012-10-03 06:00:00</th>\n",
       "      <td>105.0</td>\n",
       "      <td>50.0</td>\n",
       "      <td>155.0</td>\n",
       "    </tr>\n",
       "    <tr>\n",
       "      <th>2012-10-03 07:00:00</th>\n",
       "      <td>257.0</td>\n",
       "      <td>95.0</td>\n",
       "      <td>352.0</td>\n",
       "    </tr>\n",
       "    <tr>\n",
       "      <th>2012-10-03 08:00:00</th>\n",
       "      <td>291.0</td>\n",
       "      <td>146.0</td>\n",
       "      <td>437.0</td>\n",
       "    </tr>\n",
       "    <tr>\n",
       "      <th>2012-10-03 09:00:00</th>\n",
       "      <td>172.0</td>\n",
       "      <td>104.0</td>\n",
       "      <td>276.0</td>\n",
       "    </tr>\n",
       "    <tr>\n",
       "      <th>2012-10-03 10:00:00</th>\n",
       "      <td>72.0</td>\n",
       "      <td>46.0</td>\n",
       "      <td>118.0</td>\n",
       "    </tr>\n",
       "    <tr>\n",
       "      <th>2012-10-03 11:00:00</th>\n",
       "      <td>10.0</td>\n",
       "      <td>32.0</td>\n",
       "      <td>42.0</td>\n",
       "    </tr>\n",
       "    <tr>\n",
       "      <th>2012-10-03 12:00:00</th>\n",
       "      <td>35.0</td>\n",
       "      <td>41.0</td>\n",
       "      <td>76.0</td>\n",
       "    </tr>\n",
       "    <tr>\n",
       "      <th>2012-10-03 13:00:00</th>\n",
       "      <td>42.0</td>\n",
       "      <td>48.0</td>\n",
       "      <td>90.0</td>\n",
       "    </tr>\n",
       "    <tr>\n",
       "      <th>2012-10-03 14:00:00</th>\n",
       "      <td>77.0</td>\n",
       "      <td>51.0</td>\n",
       "      <td>128.0</td>\n",
       "    </tr>\n",
       "    <tr>\n",
       "      <th>2012-10-03 15:00:00</th>\n",
       "      <td>72.0</td>\n",
       "      <td>92.0</td>\n",
       "      <td>164.0</td>\n",
       "    </tr>\n",
       "    <tr>\n",
       "      <th>2012-10-03 16:00:00</th>\n",
       "      <td>133.0</td>\n",
       "      <td>182.0</td>\n",
       "      <td>315.0</td>\n",
       "    </tr>\n",
       "    <tr>\n",
       "      <th>2012-10-03 17:00:00</th>\n",
       "      <td>192.0</td>\n",
       "      <td>391.0</td>\n",
       "      <td>583.0</td>\n",
       "    </tr>\n",
       "    <tr>\n",
       "      <th>2012-10-03 18:00:00</th>\n",
       "      <td>122.0</td>\n",
       "      <td>258.0</td>\n",
       "      <td>380.0</td>\n",
       "    </tr>\n",
       "    <tr>\n",
       "      <th>2012-10-03 19:00:00</th>\n",
       "      <td>59.0</td>\n",
       "      <td>69.0</td>\n",
       "      <td>128.0</td>\n",
       "    </tr>\n",
       "    <tr>\n",
       "      <th>2012-10-03 20:00:00</th>\n",
       "      <td>29.0</td>\n",
       "      <td>51.0</td>\n",
       "      <td>80.0</td>\n",
       "    </tr>\n",
       "    <tr>\n",
       "      <th>2012-10-03 21:00:00</th>\n",
       "      <td>25.0</td>\n",
       "      <td>38.0</td>\n",
       "      <td>63.0</td>\n",
       "    </tr>\n",
       "    <tr>\n",
       "      <th>2012-10-03 22:00:00</th>\n",
       "      <td>24.0</td>\n",
       "      <td>25.0</td>\n",
       "      <td>49.0</td>\n",
       "    </tr>\n",
       "    <tr>\n",
       "      <th>2012-10-03 23:00:00</th>\n",
       "      <td>5.0</td>\n",
       "      <td>12.0</td>\n",
       "      <td>17.0</td>\n",
       "    </tr>\n",
       "    <tr>\n",
       "      <th>2012-10-04 00:00:00</th>\n",
       "      <td>7.0</td>\n",
       "      <td>11.0</td>\n",
       "      <td>18.0</td>\n",
       "    </tr>\n",
       "    <tr>\n",
       "      <th>2012-10-04 01:00:00</th>\n",
       "      <td>3.0</td>\n",
       "      <td>0.0</td>\n",
       "      <td>3.0</td>\n",
       "    </tr>\n",
       "    <tr>\n",
       "      <th>2012-10-04 02:00:00</th>\n",
       "      <td>3.0</td>\n",
       "      <td>6.0</td>\n",
       "      <td>9.0</td>\n",
       "    </tr>\n",
       "    <tr>\n",
       "      <th>2012-10-04 03:00:00</th>\n",
       "      <td>0.0</td>\n",
       "      <td>3.0</td>\n",
       "      <td>3.0</td>\n",
       "    </tr>\n",
       "    <tr>\n",
       "      <th>2012-10-04 04:00:00</th>\n",
       "      <td>7.0</td>\n",
       "      <td>1.0</td>\n",
       "      <td>8.0</td>\n",
       "    </tr>\n",
       "    <tr>\n",
       "      <th>2012-10-04 05:00:00</th>\n",
       "      <td>15.0</td>\n",
       "      <td>11.0</td>\n",
       "      <td>26.0</td>\n",
       "    </tr>\n",
       "    <tr>\n",
       "      <th>...</th>\n",
       "      <td>...</td>\n",
       "      <td>...</td>\n",
       "      <td>...</td>\n",
       "    </tr>\n",
       "    <tr>\n",
       "      <th>2017-03-30 18:00:00</th>\n",
       "      <td>104.0</td>\n",
       "      <td>213.0</td>\n",
       "      <td>317.0</td>\n",
       "    </tr>\n",
       "    <tr>\n",
       "      <th>2017-03-30 19:00:00</th>\n",
       "      <td>50.0</td>\n",
       "      <td>125.0</td>\n",
       "      <td>175.0</td>\n",
       "    </tr>\n",
       "    <tr>\n",
       "      <th>2017-03-30 20:00:00</th>\n",
       "      <td>25.0</td>\n",
       "      <td>58.0</td>\n",
       "      <td>83.0</td>\n",
       "    </tr>\n",
       "    <tr>\n",
       "      <th>2017-03-30 21:00:00</th>\n",
       "      <td>15.0</td>\n",
       "      <td>21.0</td>\n",
       "      <td>36.0</td>\n",
       "    </tr>\n",
       "    <tr>\n",
       "      <th>2017-03-30 22:00:00</th>\n",
       "      <td>10.0</td>\n",
       "      <td>20.0</td>\n",
       "      <td>30.0</td>\n",
       "    </tr>\n",
       "    <tr>\n",
       "      <th>2017-03-30 23:00:00</th>\n",
       "      <td>11.0</td>\n",
       "      <td>5.0</td>\n",
       "      <td>16.0</td>\n",
       "    </tr>\n",
       "    <tr>\n",
       "      <th>2017-03-31 00:00:00</th>\n",
       "      <td>2.0</td>\n",
       "      <td>4.0</td>\n",
       "      <td>6.0</td>\n",
       "    </tr>\n",
       "    <tr>\n",
       "      <th>2017-03-31 01:00:00</th>\n",
       "      <td>2.0</td>\n",
       "      <td>0.0</td>\n",
       "      <td>2.0</td>\n",
       "    </tr>\n",
       "    <tr>\n",
       "      <th>2017-03-31 02:00:00</th>\n",
       "      <td>1.0</td>\n",
       "      <td>0.0</td>\n",
       "      <td>1.0</td>\n",
       "    </tr>\n",
       "    <tr>\n",
       "      <th>2017-03-31 03:00:00</th>\n",
       "      <td>1.0</td>\n",
       "      <td>0.0</td>\n",
       "      <td>1.0</td>\n",
       "    </tr>\n",
       "    <tr>\n",
       "      <th>2017-03-31 04:00:00</th>\n",
       "      <td>3.0</td>\n",
       "      <td>3.0</td>\n",
       "      <td>6.0</td>\n",
       "    </tr>\n",
       "    <tr>\n",
       "      <th>2017-03-31 05:00:00</th>\n",
       "      <td>23.0</td>\n",
       "      <td>14.0</td>\n",
       "      <td>37.0</td>\n",
       "    </tr>\n",
       "    <tr>\n",
       "      <th>2017-03-31 06:00:00</th>\n",
       "      <td>57.0</td>\n",
       "      <td>49.0</td>\n",
       "      <td>106.0</td>\n",
       "    </tr>\n",
       "    <tr>\n",
       "      <th>2017-03-31 07:00:00</th>\n",
       "      <td>163.0</td>\n",
       "      <td>99.0</td>\n",
       "      <td>262.0</td>\n",
       "    </tr>\n",
       "    <tr>\n",
       "      <th>2017-03-31 08:00:00</th>\n",
       "      <td>250.0</td>\n",
       "      <td>162.0</td>\n",
       "      <td>412.0</td>\n",
       "    </tr>\n",
       "    <tr>\n",
       "      <th>2017-03-31 09:00:00</th>\n",
       "      <td>90.0</td>\n",
       "      <td>70.0</td>\n",
       "      <td>160.0</td>\n",
       "    </tr>\n",
       "    <tr>\n",
       "      <th>2017-03-31 10:00:00</th>\n",
       "      <td>52.0</td>\n",
       "      <td>38.0</td>\n",
       "      <td>90.0</td>\n",
       "    </tr>\n",
       "    <tr>\n",
       "      <th>2017-03-31 11:00:00</th>\n",
       "      <td>39.0</td>\n",
       "      <td>31.0</td>\n",
       "      <td>70.0</td>\n",
       "    </tr>\n",
       "    <tr>\n",
       "      <th>2017-03-31 12:00:00</th>\n",
       "      <td>37.0</td>\n",
       "      <td>37.0</td>\n",
       "      <td>74.0</td>\n",
       "    </tr>\n",
       "    <tr>\n",
       "      <th>2017-03-31 13:00:00</th>\n",
       "      <td>52.0</td>\n",
       "      <td>34.0</td>\n",
       "      <td>86.0</td>\n",
       "    </tr>\n",
       "    <tr>\n",
       "      <th>2017-03-31 14:00:00</th>\n",
       "      <td>45.0</td>\n",
       "      <td>55.0</td>\n",
       "      <td>100.0</td>\n",
       "    </tr>\n",
       "    <tr>\n",
       "      <th>2017-03-31 15:00:00</th>\n",
       "      <td>74.0</td>\n",
       "      <td>87.0</td>\n",
       "      <td>161.0</td>\n",
       "    </tr>\n",
       "    <tr>\n",
       "      <th>2017-03-31 16:00:00</th>\n",
       "      <td>83.0</td>\n",
       "      <td>223.0</td>\n",
       "      <td>306.0</td>\n",
       "    </tr>\n",
       "    <tr>\n",
       "      <th>2017-03-31 17:00:00</th>\n",
       "      <td>145.0</td>\n",
       "      <td>333.0</td>\n",
       "      <td>478.0</td>\n",
       "    </tr>\n",
       "    <tr>\n",
       "      <th>2017-03-31 18:00:00</th>\n",
       "      <td>117.0</td>\n",
       "      <td>206.0</td>\n",
       "      <td>323.0</td>\n",
       "    </tr>\n",
       "    <tr>\n",
       "      <th>2017-03-31 19:00:00</th>\n",
       "      <td>50.0</td>\n",
       "      <td>84.0</td>\n",
       "      <td>134.0</td>\n",
       "    </tr>\n",
       "    <tr>\n",
       "      <th>2017-03-31 20:00:00</th>\n",
       "      <td>26.0</td>\n",
       "      <td>36.0</td>\n",
       "      <td>62.0</td>\n",
       "    </tr>\n",
       "    <tr>\n",
       "      <th>2017-03-31 21:00:00</th>\n",
       "      <td>16.0</td>\n",
       "      <td>40.0</td>\n",
       "      <td>56.0</td>\n",
       "    </tr>\n",
       "    <tr>\n",
       "      <th>2017-03-31 22:00:00</th>\n",
       "      <td>12.0</td>\n",
       "      <td>22.0</td>\n",
       "      <td>34.0</td>\n",
       "    </tr>\n",
       "    <tr>\n",
       "      <th>2017-03-31 23:00:00</th>\n",
       "      <td>5.0</td>\n",
       "      <td>15.0</td>\n",
       "      <td>20.0</td>\n",
       "    </tr>\n",
       "  </tbody>\n",
       "</table>\n",
       "<p>39384 rows × 3 columns</p>\n",
       "</div>"
      ],
      "text/plain": [
       "                      East   West  total\n",
       "Date                                    \n",
       "2012-10-03 00:00:00    4.0    9.0   13.0\n",
       "2012-10-03 01:00:00    4.0    6.0   10.0\n",
       "2012-10-03 02:00:00    1.0    1.0    2.0\n",
       "2012-10-03 03:00:00    2.0    3.0    5.0\n",
       "2012-10-03 04:00:00    6.0    1.0    7.0\n",
       "2012-10-03 05:00:00   21.0   10.0   31.0\n",
       "2012-10-03 06:00:00  105.0   50.0  155.0\n",
       "2012-10-03 07:00:00  257.0   95.0  352.0\n",
       "2012-10-03 08:00:00  291.0  146.0  437.0\n",
       "2012-10-03 09:00:00  172.0  104.0  276.0\n",
       "2012-10-03 10:00:00   72.0   46.0  118.0\n",
       "2012-10-03 11:00:00   10.0   32.0   42.0\n",
       "2012-10-03 12:00:00   35.0   41.0   76.0\n",
       "2012-10-03 13:00:00   42.0   48.0   90.0\n",
       "2012-10-03 14:00:00   77.0   51.0  128.0\n",
       "2012-10-03 15:00:00   72.0   92.0  164.0\n",
       "2012-10-03 16:00:00  133.0  182.0  315.0\n",
       "2012-10-03 17:00:00  192.0  391.0  583.0\n",
       "2012-10-03 18:00:00  122.0  258.0  380.0\n",
       "2012-10-03 19:00:00   59.0   69.0  128.0\n",
       "2012-10-03 20:00:00   29.0   51.0   80.0\n",
       "2012-10-03 21:00:00   25.0   38.0   63.0\n",
       "2012-10-03 22:00:00   24.0   25.0   49.0\n",
       "2012-10-03 23:00:00    5.0   12.0   17.0\n",
       "2012-10-04 00:00:00    7.0   11.0   18.0\n",
       "2012-10-04 01:00:00    3.0    0.0    3.0\n",
       "2012-10-04 02:00:00    3.0    6.0    9.0\n",
       "2012-10-04 03:00:00    0.0    3.0    3.0\n",
       "2012-10-04 04:00:00    7.0    1.0    8.0\n",
       "2012-10-04 05:00:00   15.0   11.0   26.0\n",
       "...                    ...    ...    ...\n",
       "2017-03-30 18:00:00  104.0  213.0  317.0\n",
       "2017-03-30 19:00:00   50.0  125.0  175.0\n",
       "2017-03-30 20:00:00   25.0   58.0   83.0\n",
       "2017-03-30 21:00:00   15.0   21.0   36.0\n",
       "2017-03-30 22:00:00   10.0   20.0   30.0\n",
       "2017-03-30 23:00:00   11.0    5.0   16.0\n",
       "2017-03-31 00:00:00    2.0    4.0    6.0\n",
       "2017-03-31 01:00:00    2.0    0.0    2.0\n",
       "2017-03-31 02:00:00    1.0    0.0    1.0\n",
       "2017-03-31 03:00:00    1.0    0.0    1.0\n",
       "2017-03-31 04:00:00    3.0    3.0    6.0\n",
       "2017-03-31 05:00:00   23.0   14.0   37.0\n",
       "2017-03-31 06:00:00   57.0   49.0  106.0\n",
       "2017-03-31 07:00:00  163.0   99.0  262.0\n",
       "2017-03-31 08:00:00  250.0  162.0  412.0\n",
       "2017-03-31 09:00:00   90.0   70.0  160.0\n",
       "2017-03-31 10:00:00   52.0   38.0   90.0\n",
       "2017-03-31 11:00:00   39.0   31.0   70.0\n",
       "2017-03-31 12:00:00   37.0   37.0   74.0\n",
       "2017-03-31 13:00:00   52.0   34.0   86.0\n",
       "2017-03-31 14:00:00   45.0   55.0  100.0\n",
       "2017-03-31 15:00:00   74.0   87.0  161.0\n",
       "2017-03-31 16:00:00   83.0  223.0  306.0\n",
       "2017-03-31 17:00:00  145.0  333.0  478.0\n",
       "2017-03-31 18:00:00  117.0  206.0  323.0\n",
       "2017-03-31 19:00:00   50.0   84.0  134.0\n",
       "2017-03-31 20:00:00   26.0   36.0   62.0\n",
       "2017-03-31 21:00:00   16.0   40.0   56.0\n",
       "2017-03-31 22:00:00   12.0   22.0   34.0\n",
       "2017-03-31 23:00:00    5.0   15.0   20.0\n",
       "\n",
       "[39384 rows x 3 columns]"
      ]
     },
     "execution_count": 46,
     "metadata": {},
     "output_type": "execute_result"
    }
   ],
   "source": [
    "data"
   ]
  },
  {
   "cell_type": "code",
   "execution_count": null,
   "metadata": {
    "collapsed": true
   },
   "outputs": [],
   "source": []
  }
 ],
 "metadata": {
  "kernelspec": {
   "display_name": "Python 2",
   "language": "python",
   "name": "python2"
  },
  "language_info": {
   "codemirror_mode": {
    "name": "ipython",
    "version": 2
   },
   "file_extension": ".py",
   "mimetype": "text/x-python",
   "name": "python",
   "nbconvert_exporter": "python",
   "pygments_lexer": "ipython2",
   "version": "2.7.9"
  }
 },
 "nbformat": 4,
 "nbformat_minor": 2
}
