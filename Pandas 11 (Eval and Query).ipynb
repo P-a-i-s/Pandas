{
 "cells": [
  {
   "cell_type": "markdown",
   "metadata": {},
   "source": [
    "## Resource allocation check\n",
    "#WITHOUT PANDAS EVAL "
   ]
  },
  {
   "cell_type": "code",
   "execution_count": 1,
   "metadata": {
    "collapsed": true
   },
   "outputs": [],
   "source": [
    "import numpy as np"
   ]
  },
  {
   "cell_type": "code",
   "execution_count": 3,
   "metadata": {
    "collapsed": false
   },
   "outputs": [],
   "source": [
    "rng = np.random.RandomState(10)\n",
    "# The point of random state is that you can lock in on the random numbers generated..\n",
    "#..so that with same input the output will remain consistent"
   ]
  },
  {
   "cell_type": "code",
   "execution_count": 4,
   "metadata": {
    "collapsed": false
   },
   "outputs": [
    {
     "name": "stdout",
     "output_type": "stream",
     "text": [
      "The slowest run took 3925.60 times longer than the fastest. This could mean that an intermediate result is being cached.\n",
      "100000 loops, best of 3: 7.64 µs per loop\n"
     ]
    }
   ],
   "source": [
    "x = rng.rand(10000)\n",
    "y = rng.rand(10000)\n",
    "\n",
    "%timeit x+y"
   ]
  },
  {
   "cell_type": "markdown",
   "metadata": {},
   "source": [
    "## WITH PANDAS EVAL \n",
    "- Eval relies on numexpr package. It is time and resource saving. It doesnt create intermediate place holder arrays where extra resources get consumed\n",
    "- Eval supports arithmetic operations, comparison operations, bitwise operations, Object attributes indexing. "
   ]
  },
  {
   "cell_type": "code",
   "execution_count": 5,
   "metadata": {
    "collapsed": true
   },
   "outputs": [],
   "source": [
    "import pandas as pd"
   ]
  },
  {
   "cell_type": "code",
   "execution_count": 17,
   "metadata": {
    "collapsed": true
   },
   "outputs": [],
   "source": [
    "nrows, ncols = 10000,10\n",
    "rng = np.random.RandomState(43)\n",
    "\n",
    "df1, df2,df3,df4 = (pd.DataFrame(rng.rand(nrows,ncols))\n",
    "                   for i in range(4))"
   ]
  },
  {
   "cell_type": "code",
   "execution_count": 18,
   "metadata": {
    "collapsed": false
   },
   "outputs": [
    {
     "name": "stdout",
     "output_type": "stream",
     "text": [
      "100 loops, best of 3: 2.24 ms per loop\n"
     ]
    }
   ],
   "source": [
    "%timeit df1 + df2 + df3 + df4"
   ]
  },
  {
   "cell_type": "code",
   "execution_count": 19,
   "metadata": {
    "collapsed": false
   },
   "outputs": [
    {
     "name": "stdout",
     "output_type": "stream",
     "text": [
      "100 loops, best of 3: 6.04 ms per loop\n"
     ]
    }
   ],
   "source": [
    "%timeit pd.eval('df1+df2+df3+df4')"
   ]
  },
  {
   "cell_type": "code",
   "execution_count": 25,
   "metadata": {
    "collapsed": false
   },
   "outputs": [
    {
     "name": "stdout",
     "output_type": "stream",
     "text": [
      "10000000 loops, best of 3: 23.4 ns per loop\n"
     ]
    }
   ],
   "source": [
    "%timeit('df1<df2) & (df2<=df3)&(df3!=df4')"
   ]
  },
  {
   "cell_type": "code",
   "execution_count": 22,
   "metadata": {
    "collapsed": false
   },
   "outputs": [
    {
     "name": "stdout",
     "output_type": "stream",
     "text": [
      "100 loops, best of 3: 4.59 ms per loop\n",
      "100 loops, best of 3: 6.79 ms per loop\n"
     ]
    }
   ],
   "source": [
    "\n",
    "%timeit (df1 < 0.5) & (df2 < 0.5) | (df3 < df4)\n",
    "%timeit pd.eval('(df1 < 0.5) & (df2 < 0.5) | (df3 < df4)')"
   ]
  },
  {
   "cell_type": "markdown",
   "metadata": {},
   "source": [
    "## EVAL Column Wise Operations - DataFrame.eval()"
   ]
  },
  {
   "cell_type": "code",
   "execution_count": 26,
   "metadata": {
    "collapsed": true
   },
   "outputs": [],
   "source": [
    "df = pd.DataFrame(rng.rand(1000,3), columns=['A','B','C'])"
   ]
  },
  {
   "cell_type": "code",
   "execution_count": 28,
   "metadata": {
    "collapsed": false
   },
   "outputs": [
    {
     "data": {
      "text/html": [
       "<div>\n",
       "<table border=\"1\" class=\"dataframe\">\n",
       "  <thead>\n",
       "    <tr style=\"text-align: right;\">\n",
       "      <th></th>\n",
       "      <th>A</th>\n",
       "      <th>B</th>\n",
       "      <th>C</th>\n",
       "    </tr>\n",
       "  </thead>\n",
       "  <tbody>\n",
       "    <tr>\n",
       "      <th>0</th>\n",
       "      <td>0.964792</td>\n",
       "      <td>0.493116</td>\n",
       "      <td>0.251230</td>\n",
       "    </tr>\n",
       "    <tr>\n",
       "      <th>1</th>\n",
       "      <td>0.453194</td>\n",
       "      <td>0.368565</td>\n",
       "      <td>0.585630</td>\n",
       "    </tr>\n",
       "    <tr>\n",
       "      <th>2</th>\n",
       "      <td>0.914452</td>\n",
       "      <td>0.955842</td>\n",
       "      <td>0.028324</td>\n",
       "    </tr>\n",
       "    <tr>\n",
       "      <th>3</th>\n",
       "      <td>0.332774</td>\n",
       "      <td>0.031081</td>\n",
       "      <td>0.268343</td>\n",
       "    </tr>\n",
       "    <tr>\n",
       "      <th>4</th>\n",
       "      <td>0.608275</td>\n",
       "      <td>0.198986</td>\n",
       "      <td>0.249062</td>\n",
       "    </tr>\n",
       "  </tbody>\n",
       "</table>\n",
       "</div>"
      ],
      "text/plain": [
       "          A         B         C\n",
       "0  0.964792  0.493116  0.251230\n",
       "1  0.453194  0.368565  0.585630\n",
       "2  0.914452  0.955842  0.028324\n",
       "3  0.332774  0.031081  0.268343\n",
       "4  0.608275  0.198986  0.249062"
      ]
     },
     "execution_count": 28,
     "metadata": {},
     "output_type": "execute_result"
    }
   ],
   "source": [
    "df.head()"
   ]
  },
  {
   "cell_type": "code",
   "execution_count": 29,
   "metadata": {
    "collapsed": true
   },
   "outputs": [],
   "source": [
    "res = (df['A']+df['B']/(df['C']-1))"
   ]
  },
  {
   "cell_type": "code",
   "execution_count": 38,
   "metadata": {
    "collapsed": false
   },
   "outputs": [],
   "source": [
    "res2 = pd.eval(\"(df.A+ df.B)/(df.C-1)\")"
   ]
  },
  {
   "cell_type": "code",
   "execution_count": 44,
   "metadata": {
    "collapsed": false
   },
   "outputs": [
    {
     "data": {
      "text/plain": [
       "0        2.253294\n",
       "1        1.546887\n",
       "2        1.855559\n",
       "3        0.787597\n",
       "4        1.418295\n",
       "5        1.426131\n",
       "6        1.022928\n",
       "7        2.304933\n",
       "8        1.990502\n",
       "9        1.146501\n",
       "10       4.403925\n",
       "11       4.644101\n",
       "12       3.833645\n",
       "13       0.546121\n",
       "14       4.961431\n",
       "15       1.803342\n",
       "16       0.116779\n",
       "17       1.370874\n",
       "18       0.095605\n",
       "19       0.508168\n",
       "20       1.455460\n",
       "21       1.253846\n",
       "22       1.861547\n",
       "23      43.139693\n",
       "24      14.126903\n",
       "25       1.324882\n",
       "26       0.345778\n",
       "27       1.308532\n",
       "28       0.702844\n",
       "29       0.269678\n",
       "          ...    \n",
       "970      1.970954\n",
       "971      0.643178\n",
       "972     13.730961\n",
       "973      2.560381\n",
       "974      2.691972\n",
       "975      3.911819\n",
       "976      1.346668\n",
       "977      1.777123\n",
       "978      1.511813\n",
       "979      1.998093\n",
       "980      7.204043\n",
       "981      6.426819\n",
       "982      1.040305\n",
       "983      1.265489\n",
       "984      1.991497\n",
       "985      3.162604\n",
       "986    249.012299\n",
       "987      1.242646\n",
       "988      1.848384\n",
       "989      1.724639\n",
       "990      2.813301\n",
       "991      0.587423\n",
       "992      2.184805\n",
       "993      2.648471\n",
       "994      1.120390\n",
       "995      1.000096\n",
       "996      3.733379\n",
       "997      0.523096\n",
       "998      3.061723\n",
       "999     25.542471\n",
       "dtype: float64"
      ]
     },
     "execution_count": 44,
     "metadata": {},
     "output_type": "execute_result"
    }
   ],
   "source": [
    "res - res2"
   ]
  },
  {
   "cell_type": "markdown",
   "metadata": {},
   "source": [
    "\n",
    "## QUERY "
   ]
  },
  {
   "cell_type": "code",
   "execution_count": 45,
   "metadata": {
    "collapsed": false
   },
   "outputs": [
    {
     "data": {
      "text/html": [
       "<div>\n",
       "<table border=\"1\" class=\"dataframe\">\n",
       "  <thead>\n",
       "    <tr style=\"text-align: right;\">\n",
       "      <th></th>\n",
       "      <th>A</th>\n",
       "      <th>B</th>\n",
       "      <th>C</th>\n",
       "    </tr>\n",
       "  </thead>\n",
       "  <tbody>\n",
       "    <tr>\n",
       "      <th>5</th>\n",
       "      <td>0.280100</td>\n",
       "      <td>0.748231</td>\n",
       "      <td>0.755591</td>\n",
       "    </tr>\n",
       "    <tr>\n",
       "      <th>9</th>\n",
       "      <td>0.398766</td>\n",
       "      <td>0.686458</td>\n",
       "      <td>0.466701</td>\n",
       "    </tr>\n",
       "    <tr>\n",
       "      <th>12</th>\n",
       "      <td>0.220194</td>\n",
       "      <td>0.752404</td>\n",
       "      <td>0.939063</td>\n",
       "    </tr>\n",
       "    <tr>\n",
       "      <th>16</th>\n",
       "      <td>0.056755</td>\n",
       "      <td>0.742099</td>\n",
       "      <td>0.054462</td>\n",
       "    </tr>\n",
       "    <tr>\n",
       "      <th>18</th>\n",
       "      <td>0.032883</td>\n",
       "      <td>0.887316</td>\n",
       "      <td>0.475725</td>\n",
       "    </tr>\n",
       "    <tr>\n",
       "      <th>27</th>\n",
       "      <td>0.034252</td>\n",
       "      <td>0.772278</td>\n",
       "      <td>0.973121</td>\n",
       "    </tr>\n",
       "    <tr>\n",
       "      <th>37</th>\n",
       "      <td>0.100324</td>\n",
       "      <td>0.710337</td>\n",
       "      <td>0.370694</td>\n",
       "    </tr>\n",
       "    <tr>\n",
       "      <th>38</th>\n",
       "      <td>0.396180</td>\n",
       "      <td>0.516032</td>\n",
       "      <td>0.768987</td>\n",
       "    </tr>\n",
       "    <tr>\n",
       "      <th>46</th>\n",
       "      <td>0.345891</td>\n",
       "      <td>0.929820</td>\n",
       "      <td>0.603101</td>\n",
       "    </tr>\n",
       "    <tr>\n",
       "      <th>64</th>\n",
       "      <td>0.012250</td>\n",
       "      <td>0.886698</td>\n",
       "      <td>0.275493</td>\n",
       "    </tr>\n",
       "    <tr>\n",
       "      <th>66</th>\n",
       "      <td>0.416266</td>\n",
       "      <td>0.694439</td>\n",
       "      <td>0.030560</td>\n",
       "    </tr>\n",
       "    <tr>\n",
       "      <th>70</th>\n",
       "      <td>0.041321</td>\n",
       "      <td>0.976121</td>\n",
       "      <td>0.080221</td>\n",
       "    </tr>\n",
       "    <tr>\n",
       "      <th>72</th>\n",
       "      <td>0.035861</td>\n",
       "      <td>0.931196</td>\n",
       "      <td>0.217759</td>\n",
       "    </tr>\n",
       "    <tr>\n",
       "      <th>73</th>\n",
       "      <td>0.319878</td>\n",
       "      <td>0.588467</td>\n",
       "      <td>0.400346</td>\n",
       "    </tr>\n",
       "    <tr>\n",
       "      <th>82</th>\n",
       "      <td>0.107728</td>\n",
       "      <td>0.613317</td>\n",
       "      <td>0.409385</td>\n",
       "    </tr>\n",
       "    <tr>\n",
       "      <th>86</th>\n",
       "      <td>0.461182</td>\n",
       "      <td>0.580055</td>\n",
       "      <td>0.607467</td>\n",
       "    </tr>\n",
       "    <tr>\n",
       "      <th>89</th>\n",
       "      <td>0.480534</td>\n",
       "      <td>0.849779</td>\n",
       "      <td>0.500750</td>\n",
       "    </tr>\n",
       "    <tr>\n",
       "      <th>90</th>\n",
       "      <td>0.186226</td>\n",
       "      <td>0.585541</td>\n",
       "      <td>0.064667</td>\n",
       "    </tr>\n",
       "    <tr>\n",
       "      <th>95</th>\n",
       "      <td>0.203316</td>\n",
       "      <td>0.667497</td>\n",
       "      <td>0.625225</td>\n",
       "    </tr>\n",
       "    <tr>\n",
       "      <th>104</th>\n",
       "      <td>0.373352</td>\n",
       "      <td>0.913970</td>\n",
       "      <td>0.829650</td>\n",
       "    </tr>\n",
       "    <tr>\n",
       "      <th>105</th>\n",
       "      <td>0.252521</td>\n",
       "      <td>0.678725</td>\n",
       "      <td>0.602357</td>\n",
       "    </tr>\n",
       "    <tr>\n",
       "      <th>113</th>\n",
       "      <td>0.238561</td>\n",
       "      <td>0.653164</td>\n",
       "      <td>0.411043</td>\n",
       "    </tr>\n",
       "    <tr>\n",
       "      <th>116</th>\n",
       "      <td>0.369398</td>\n",
       "      <td>0.850209</td>\n",
       "      <td>0.358309</td>\n",
       "    </tr>\n",
       "    <tr>\n",
       "      <th>118</th>\n",
       "      <td>0.014325</td>\n",
       "      <td>0.811065</td>\n",
       "      <td>0.387819</td>\n",
       "    </tr>\n",
       "    <tr>\n",
       "      <th>120</th>\n",
       "      <td>0.262114</td>\n",
       "      <td>0.865977</td>\n",
       "      <td>0.969516</td>\n",
       "    </tr>\n",
       "    <tr>\n",
       "      <th>121</th>\n",
       "      <td>0.031818</td>\n",
       "      <td>0.797509</td>\n",
       "      <td>0.054220</td>\n",
       "    </tr>\n",
       "    <tr>\n",
       "      <th>123</th>\n",
       "      <td>0.174497</td>\n",
       "      <td>0.709944</td>\n",
       "      <td>0.556613</td>\n",
       "    </tr>\n",
       "    <tr>\n",
       "      <th>128</th>\n",
       "      <td>0.153041</td>\n",
       "      <td>0.991810</td>\n",
       "      <td>0.527318</td>\n",
       "    </tr>\n",
       "    <tr>\n",
       "      <th>132</th>\n",
       "      <td>0.359498</td>\n",
       "      <td>0.527039</td>\n",
       "      <td>0.536755</td>\n",
       "    </tr>\n",
       "    <tr>\n",
       "      <th>153</th>\n",
       "      <td>0.323609</td>\n",
       "      <td>0.699214</td>\n",
       "      <td>0.511126</td>\n",
       "    </tr>\n",
       "    <tr>\n",
       "      <th>...</th>\n",
       "      <td>...</td>\n",
       "      <td>...</td>\n",
       "      <td>...</td>\n",
       "    </tr>\n",
       "    <tr>\n",
       "      <th>894</th>\n",
       "      <td>0.092896</td>\n",
       "      <td>0.599647</td>\n",
       "      <td>0.252312</td>\n",
       "    </tr>\n",
       "    <tr>\n",
       "      <th>895</th>\n",
       "      <td>0.259980</td>\n",
       "      <td>0.703875</td>\n",
       "      <td>0.064546</td>\n",
       "    </tr>\n",
       "    <tr>\n",
       "      <th>907</th>\n",
       "      <td>0.421435</td>\n",
       "      <td>0.726162</td>\n",
       "      <td>0.463408</td>\n",
       "    </tr>\n",
       "    <tr>\n",
       "      <th>908</th>\n",
       "      <td>0.281785</td>\n",
       "      <td>0.958809</td>\n",
       "      <td>0.384065</td>\n",
       "    </tr>\n",
       "    <tr>\n",
       "      <th>911</th>\n",
       "      <td>0.149695</td>\n",
       "      <td>0.633714</td>\n",
       "      <td>0.186133</td>\n",
       "    </tr>\n",
       "    <tr>\n",
       "      <th>913</th>\n",
       "      <td>0.310288</td>\n",
       "      <td>0.840089</td>\n",
       "      <td>0.138393</td>\n",
       "    </tr>\n",
       "    <tr>\n",
       "      <th>914</th>\n",
       "      <td>0.118192</td>\n",
       "      <td>0.593589</td>\n",
       "      <td>0.724156</td>\n",
       "    </tr>\n",
       "    <tr>\n",
       "      <th>915</th>\n",
       "      <td>0.439068</td>\n",
       "      <td>0.508536</td>\n",
       "      <td>0.238909</td>\n",
       "    </tr>\n",
       "    <tr>\n",
       "      <th>916</th>\n",
       "      <td>0.198977</td>\n",
       "      <td>0.663505</td>\n",
       "      <td>0.422187</td>\n",
       "    </tr>\n",
       "    <tr>\n",
       "      <th>919</th>\n",
       "      <td>0.492009</td>\n",
       "      <td>0.657451</td>\n",
       "      <td>0.364045</td>\n",
       "    </tr>\n",
       "    <tr>\n",
       "      <th>926</th>\n",
       "      <td>0.476907</td>\n",
       "      <td>0.632193</td>\n",
       "      <td>0.379143</td>\n",
       "    </tr>\n",
       "    <tr>\n",
       "      <th>928</th>\n",
       "      <td>0.219835</td>\n",
       "      <td>0.847477</td>\n",
       "      <td>0.266138</td>\n",
       "    </tr>\n",
       "    <tr>\n",
       "      <th>929</th>\n",
       "      <td>0.188388</td>\n",
       "      <td>0.710293</td>\n",
       "      <td>0.952983</td>\n",
       "    </tr>\n",
       "    <tr>\n",
       "      <th>931</th>\n",
       "      <td>0.202986</td>\n",
       "      <td>0.886493</td>\n",
       "      <td>0.263239</td>\n",
       "    </tr>\n",
       "    <tr>\n",
       "      <th>934</th>\n",
       "      <td>0.220442</td>\n",
       "      <td>0.605012</td>\n",
       "      <td>0.264065</td>\n",
       "    </tr>\n",
       "    <tr>\n",
       "      <th>938</th>\n",
       "      <td>0.380650</td>\n",
       "      <td>0.638145</td>\n",
       "      <td>0.796068</td>\n",
       "    </tr>\n",
       "    <tr>\n",
       "      <th>948</th>\n",
       "      <td>0.040063</td>\n",
       "      <td>0.681197</td>\n",
       "      <td>0.079341</td>\n",
       "    </tr>\n",
       "    <tr>\n",
       "      <th>949</th>\n",
       "      <td>0.228779</td>\n",
       "      <td>0.782215</td>\n",
       "      <td>0.214828</td>\n",
       "    </tr>\n",
       "    <tr>\n",
       "      <th>951</th>\n",
       "      <td>0.009744</td>\n",
       "      <td>0.896572</td>\n",
       "      <td>0.555970</td>\n",
       "    </tr>\n",
       "    <tr>\n",
       "      <th>955</th>\n",
       "      <td>0.398730</td>\n",
       "      <td>0.650191</td>\n",
       "      <td>0.037930</td>\n",
       "    </tr>\n",
       "    <tr>\n",
       "      <th>956</th>\n",
       "      <td>0.154980</td>\n",
       "      <td>0.728735</td>\n",
       "      <td>0.632253</td>\n",
       "    </tr>\n",
       "    <tr>\n",
       "      <th>963</th>\n",
       "      <td>0.455773</td>\n",
       "      <td>0.940409</td>\n",
       "      <td>0.997833</td>\n",
       "    </tr>\n",
       "    <tr>\n",
       "      <th>964</th>\n",
       "      <td>0.197515</td>\n",
       "      <td>0.893186</td>\n",
       "      <td>0.275587</td>\n",
       "    </tr>\n",
       "    <tr>\n",
       "      <th>968</th>\n",
       "      <td>0.450946</td>\n",
       "      <td>0.628152</td>\n",
       "      <td>0.582165</td>\n",
       "    </tr>\n",
       "    <tr>\n",
       "      <th>969</th>\n",
       "      <td>0.206624</td>\n",
       "      <td>0.960198</td>\n",
       "      <td>0.523093</td>\n",
       "    </tr>\n",
       "    <tr>\n",
       "      <th>971</th>\n",
       "      <td>0.274303</td>\n",
       "      <td>0.959623</td>\n",
       "      <td>0.256380</td>\n",
       "    </tr>\n",
       "    <tr>\n",
       "      <th>973</th>\n",
       "      <td>0.081968</td>\n",
       "      <td>0.834201</td>\n",
       "      <td>0.966927</td>\n",
       "    </tr>\n",
       "    <tr>\n",
       "      <th>982</th>\n",
       "      <td>0.499918</td>\n",
       "      <td>0.612830</td>\n",
       "      <td>0.074887</td>\n",
       "    </tr>\n",
       "    <tr>\n",
       "      <th>994</th>\n",
       "      <td>0.486564</td>\n",
       "      <td>0.987664</td>\n",
       "      <td>0.232339</td>\n",
       "    </tr>\n",
       "    <tr>\n",
       "      <th>995</th>\n",
       "      <td>0.490634</td>\n",
       "      <td>0.697256</td>\n",
       "      <td>0.036956</td>\n",
       "    </tr>\n",
       "  </tbody>\n",
       "</table>\n",
       "<p>209 rows × 3 columns</p>\n",
       "</div>"
      ],
      "text/plain": [
       "            A         B         C\n",
       "5    0.280100  0.748231  0.755591\n",
       "9    0.398766  0.686458  0.466701\n",
       "12   0.220194  0.752404  0.939063\n",
       "16   0.056755  0.742099  0.054462\n",
       "18   0.032883  0.887316  0.475725\n",
       "27   0.034252  0.772278  0.973121\n",
       "37   0.100324  0.710337  0.370694\n",
       "38   0.396180  0.516032  0.768987\n",
       "46   0.345891  0.929820  0.603101\n",
       "64   0.012250  0.886698  0.275493\n",
       "66   0.416266  0.694439  0.030560\n",
       "70   0.041321  0.976121  0.080221\n",
       "72   0.035861  0.931196  0.217759\n",
       "73   0.319878  0.588467  0.400346\n",
       "82   0.107728  0.613317  0.409385\n",
       "86   0.461182  0.580055  0.607467\n",
       "89   0.480534  0.849779  0.500750\n",
       "90   0.186226  0.585541  0.064667\n",
       "95   0.203316  0.667497  0.625225\n",
       "104  0.373352  0.913970  0.829650\n",
       "105  0.252521  0.678725  0.602357\n",
       "113  0.238561  0.653164  0.411043\n",
       "116  0.369398  0.850209  0.358309\n",
       "118  0.014325  0.811065  0.387819\n",
       "120  0.262114  0.865977  0.969516\n",
       "121  0.031818  0.797509  0.054220\n",
       "123  0.174497  0.709944  0.556613\n",
       "128  0.153041  0.991810  0.527318\n",
       "132  0.359498  0.527039  0.536755\n",
       "153  0.323609  0.699214  0.511126\n",
       "..        ...       ...       ...\n",
       "894  0.092896  0.599647  0.252312\n",
       "895  0.259980  0.703875  0.064546\n",
       "907  0.421435  0.726162  0.463408\n",
       "908  0.281785  0.958809  0.384065\n",
       "911  0.149695  0.633714  0.186133\n",
       "913  0.310288  0.840089  0.138393\n",
       "914  0.118192  0.593589  0.724156\n",
       "915  0.439068  0.508536  0.238909\n",
       "916  0.198977  0.663505  0.422187\n",
       "919  0.492009  0.657451  0.364045\n",
       "926  0.476907  0.632193  0.379143\n",
       "928  0.219835  0.847477  0.266138\n",
       "929  0.188388  0.710293  0.952983\n",
       "931  0.202986  0.886493  0.263239\n",
       "934  0.220442  0.605012  0.264065\n",
       "938  0.380650  0.638145  0.796068\n",
       "948  0.040063  0.681197  0.079341\n",
       "949  0.228779  0.782215  0.214828\n",
       "951  0.009744  0.896572  0.555970\n",
       "955  0.398730  0.650191  0.037930\n",
       "956  0.154980  0.728735  0.632253\n",
       "963  0.455773  0.940409  0.997833\n",
       "964  0.197515  0.893186  0.275587\n",
       "968  0.450946  0.628152  0.582165\n",
       "969  0.206624  0.960198  0.523093\n",
       "971  0.274303  0.959623  0.256380\n",
       "973  0.081968  0.834201  0.966927\n",
       "982  0.499918  0.612830  0.074887\n",
       "994  0.486564  0.987664  0.232339\n",
       "995  0.490634  0.697256  0.036956\n",
       "\n",
       "[209 rows x 3 columns]"
      ]
     },
     "execution_count": 45,
     "metadata": {},
     "output_type": "execute_result"
    }
   ],
   "source": [
    "df.query('A < 0.5 and B>0.5')"
   ]
  },
  {
   "cell_type": "code",
   "execution_count": null,
   "metadata": {
    "collapsed": true
   },
   "outputs": [],
   "source": []
  }
 ],
 "metadata": {
  "kernelspec": {
   "display_name": "Python 2",
   "language": "python",
   "name": "python2"
  },
  "language_info": {
   "codemirror_mode": {
    "name": "ipython",
    "version": 2
   },
   "file_extension": ".py",
   "mimetype": "text/x-python",
   "name": "python",
   "nbconvert_exporter": "python",
   "pygments_lexer": "ipython2",
   "version": "2.7.13"
  }
 },
 "nbformat": 4,
 "nbformat_minor": 2
}
